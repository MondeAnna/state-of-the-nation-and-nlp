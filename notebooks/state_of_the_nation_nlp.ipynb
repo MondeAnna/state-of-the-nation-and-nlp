{
 "cells": [
  {
   "cell_type": "markdown",
   "id": "c65bf00e",
   "metadata": {},
   "source": [
    "<br />\n",
    "\n",
    "<h1 align=\"center\">The</h1>\n",
    "<h1 align=\"center\">Natural Language Processing</h1>\n",
    "<h5 align=\"center\">of</h5>\n",
    "<h1 align=\"center\">South Africa's State of the Nation</h1>\n",
    "<h1 align=\"center\">Addresses</h1>\n",
    "<h5 align=\"center\">by</h5>\n",
    "<h3 align=\"center\">Monde Anna</h3>\n",
    "\n",
    "<br />\n",
    "<br />\n"
   ]
  },
  {
   "cell_type": "markdown",
   "id": "66b31be8",
   "metadata": {},
   "source": [
    "<p>Within the following notebook, we will get to explore thte priorities and challenges faced by our country over the last 23 years, that is, from the year 2000 up to and including the year 2022. Each president and as such each presidential term, will offer us insight into said priorities as well as provide a launchpad from which to gain an insight into what the core focuses of each presidential period term.</p>\n",
    "\n",
    "<br />\n",
    "<br />\n"
   ]
  },
  {
   "cell_type": "markdown",
   "id": "7aecb979",
   "metadata": {},
   "source": [
    "<h3 align=\"Center\">Sources</h3>\n",
    "\n",
    "<br />\n",
    "\n",
    "<ul>\n",
    "    <br />\n",
    "    <li>\n",
    "        <a href=\"http://syllabus.africacode.net/projects/data-science-specific/natural-language-processing/\">Brief</a>\n",
    "    </li>\n",
    "    <br />\n",
    "    <li><a href=\"https://www.gov.za/state-nation-address\">SONA Speech Archive</a>\n",
    "    </li>\n",
    "</ul>\n",
    "\n",
    "<br />\n",
    "<br />\n"
   ]
  },
  {
   "cell_type": "markdown",
   "id": "0fa9de9c",
   "metadata": {},
   "source": [
    "<h3 align=\"Center\">Imports</h3>\n",
    "\n",
    "<br />\n",
    "<br />\n"
   ]
  },
  {
   "cell_type": "code",
   "execution_count": 1,
   "id": "d1ec3db3",
   "metadata": {},
   "outputs": [],
   "source": [
    "from sklearn.feature_extraction.text import CountVectorizer\n",
    "from matplotlib import pyplot as plt\n",
    "from wordcloud import WordCloud\n",
    "from string import punctuation\n",
    "from datetime import datetime\n",
    "from textblob import TextBlob\n",
    "import seaborn as sns\n",
    "import pandas as pd\n",
    "import numpy as np\n",
    "import requests\n",
    "import json\n",
    "import nltk\n",
    "import bs4\n",
    "import re\n"
   ]
  },
  {
   "cell_type": "markdown",
   "id": "ea833c11",
   "metadata": {},
   "source": [
    "<br />\n",
    "\n",
    "<h3 align=\"Center\">Global Settings</h3>\n",
    "\n",
    "<br />\n",
    "<br />\n"
   ]
  },
  {
   "cell_type": "code",
   "execution_count": 2,
   "id": "00d36f3b",
   "metadata": {},
   "outputs": [],
   "source": [
    "BOLD = \"bold\"\n",
    "N_COLS = 3\n",
    "N_ROWS = 9\n",
    "SEED = 69\n",
    "\n",
    "sns.set(rc={\n",
    "    \"axes.labelpad\": 12,\n",
    "    \"axes.labelweight\": BOLD,\n",
    "    \"axes.titlepad\": 24,\n",
    "    \"axes.titlesize\": 18,\n",
    "    \"axes.titleweight\": BOLD,\n",
    "    \"figure.figsize\": (12,6),\n",
    "    \"figure.titlesize\": 32,\n",
    "    \"figure.titleweight\": BOLD,\n",
    "})\n",
    "\n",
    "nltk_data = [\n",
    "    \"averaged_perceptron_tagger\",\n",
    "    \"omw-1.4\",\n",
    "    \"punkt\",\n",
    "    \"stopwords\",\n",
    "    \"tagsets\",\n",
    "    \"wordnet\",\n",
    "]\n",
    "\n",
    "for datum in nltk_data:\n",
    "    nltk.download(datum, quiet=True)\n"
   ]
  }
 ],
 "metadata": {
  "kernelspec": {
   "display_name": "Python 3 (ipykernel)",
   "language": "python",
   "name": "python3"
  },
  "language_info": {
   "codemirror_mode": {
    "name": "ipython",
    "version": 3
   },
   "file_extension": ".py",
   "mimetype": "text/x-python",
   "name": "python",
   "nbconvert_exporter": "python",
   "pygments_lexer": "ipython3",
   "version": "3.9.13"
  }
 },
 "nbformat": 4,
 "nbformat_minor": 5
}
